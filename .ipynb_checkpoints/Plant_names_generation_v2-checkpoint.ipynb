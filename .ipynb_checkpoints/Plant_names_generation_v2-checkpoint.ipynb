{
 "cells": [
  {
   "cell_type": "markdown",
   "metadata": {
    "colab_type": "text",
    "id": "view-in-github"
   },
   "source": [
    "<a href=\"https://colab.research.google.com/github/piecesofreg09/plant_names/blob/master/Copy_of_Plant_names_generation.ipynb\" target=\"_parent\"><img src=\"https://colab.research.google.com/assets/colab-badge.svg\" alt=\"Open In Colab\"/></a>"
   ]
  },
  {
   "cell_type": "markdown",
   "metadata": {
    "colab_type": "text",
    "id": "hYnBT9e1SqJh"
   },
   "source": [
    "Web crawl of all names of garden plant"
   ]
  },
  {
   "cell_type": "code",
   "execution_count": 0,
   "metadata": {
    "colab": {},
    "colab_type": "code",
    "id": "gQVc2qZ3fZcU"
   },
   "outputs": [],
   "source": [
    "#!mkdir models"
   ]
  },
  {
   "cell_type": "code",
   "execution_count": 0,
   "metadata": {
    "colab": {},
    "colab_type": "code",
    "id": "mkWNekarSqJk"
   },
   "outputs": [],
   "source": [
    "# notebook related\n",
    "from bs4 import BeautifulSoup\n",
    "import requests\n",
    "import pickle\n",
    "from tqdm import tqdm, tnrange, tqdm_notebook\n",
    "import pandas as pd\n",
    "import numpy as np\n",
    "import os\n",
    "import matplotlib.pyplot as plt\n",
    "import seaborn as sns\n",
    "import copy\n",
    "import re\n",
    "import random\n",
    "\n",
    "# ML related\n",
    "import keras\n",
    "from IPython.display import clear_output\n",
    "from keras.utils import to_categorical\n",
    "from keras.models import Sequential\n",
    "from keras.layers import LSTM, Dense, Dropout, Masking, Embedding, Input\n",
    "from keras import optimizers\n",
    "from keras.callbacks import EarlyStopping, ModelCheckpoint"
   ]
  },
  {
   "cell_type": "markdown",
   "metadata": {
    "colab_type": "text",
    "id": "lQFMC-EGSqJo"
   },
   "source": [
    "The page link is analyzed using beautiful soup. All names are included in a div section with class equal to columns."
   ]
  },
  {
   "cell_type": "code",
   "execution_count": 0,
   "metadata": {
    "colab": {},
    "colab_type": "code",
    "id": "hrbMbfU_SqJp",
    "scrolled": true
   },
   "outputs": [],
   "source": [
    "page_link = 'https://en.wikipedia.org/wiki/List_of_garden_plants'\n",
    "response = requests.get(page_link)\n",
    "soup = BeautifulSoup(response.content, 'html.parser')"
   ]
  },
  {
   "cell_type": "code",
   "execution_count": 0,
   "metadata": {
    "colab": {},
    "colab_type": "code",
    "id": "Bh6DzIr2SqJr"
   },
   "outputs": [],
   "source": [
    "list_items = soup.find_all('div', {'class': 'columns'})"
   ]
  },
  {
   "cell_type": "code",
   "execution_count": 0,
   "metadata": {
    "colab": {},
    "colab_type": "code",
    "id": "c_4W1-bWSqJu"
   },
   "outputs": [],
   "source": [
    "res = []\n",
    "for item in list_items:\n",
    "    x = item.find_all('li')\n",
    "    res.extend([t.text for t in x])"
   ]
  },
  {
   "cell_type": "code",
   "execution_count": 0,
   "metadata": {
    "colab": {
     "base_uri": "https://localhost:8080/",
     "height": 109
    },
    "colab_type": "code",
    "id": "Rj8RLTlQSqJw",
    "outputId": "aa11da6d-f282-4c02-d321-172064011c7d"
   },
   "outputs": [
    {
     "data": {
      "text/plain": [
       "['Abelia',\n",
       " 'Abeliophyllum (white forsythia)',\n",
       " 'Abelmoschus (okra)',\n",
       " 'Abies (fir)',\n",
       " 'Abroma']"
      ]
     },
     "execution_count": 27,
     "metadata": {
      "tags": []
     },
     "output_type": "execute_result"
    }
   ],
   "source": [
    "res[:5]"
   ]
  },
  {
   "cell_type": "markdown",
   "metadata": {
    "colab_type": "text",
    "id": "IXh069inSqJ1"
   },
   "source": [
    "Some of the plants names include the common used daily names, which are labelled in brackets. Anything included in brackets will be deleted/removed."
   ]
  },
  {
   "cell_type": "code",
   "execution_count": 0,
   "metadata": {
    "colab": {
     "base_uri": "https://localhost:8080/",
     "height": 35
    },
    "colab_type": "code",
    "id": "62jNSa1dSqJ3",
    "outputId": "d9d7dd06-2103-429e-ce53-b3bcccb113fe"
   },
   "outputs": [
    {
     "data": {
      "text/plain": [
       "['Abelia', 'Abeliophyllum', 'Abelmoschus', 'Abies', 'Abroma']"
      ]
     },
     "execution_count": 28,
     "metadata": {
      "tags": []
     },
     "output_type": "execute_result"
    }
   ],
   "source": [
    "res_removed = [i[:(i.find('(') - 1)] if i.find('(') != -1 else i for i in res]\n",
    "res_no_syn = []\n",
    "for plant in res_removed:\n",
    "    syn_id = plant.find('syn.')\n",
    "    if syn_id != -1:\n",
    "        res_no_syn.append(plant[:(syn_id - 1)])\n",
    "        res_no_syn.append(plant[(syn_id + 5):])\n",
    "    else:\n",
    "        res_no_syn.append(re.sub(r'[^a-zA-Z]', '', plant))\n",
    "\n",
    "res_no_syn[:5]"
   ]
  },
  {
   "cell_type": "markdown",
   "metadata": {
    "colab_type": "text",
    "id": "chXPt_UkSqJ6"
   },
   "source": [
    "The size of the data and "
   ]
  },
  {
   "cell_type": "code",
   "execution_count": 0,
   "metadata": {
    "colab": {
     "base_uri": "https://localhost:8080/",
     "height": 35
    },
    "colab_type": "code",
    "id": "D88eIJ3wSqJ6",
    "outputId": "56285393-9a10-4197-8f6e-a38ea1771e61"
   },
   "outputs": [
    {
     "name": "stdout",
     "output_type": "stream",
     "text": [
      "There are 22841 total characters and 29 unique characters in your data.\n"
     ]
    }
   ],
   "source": [
    "data_lower = list(map(lambda x: x.lower(), res_no_syn))\n",
    "chunks = '\\n'.join(list(map(str, data_lower)))\n",
    "chars = list(set(chunks))\n",
    "data = copy.deepcopy(chunks)\n",
    "data_size, vocab_size = len(data), len(chars)\n",
    "print('There are %d total characters and %d unique characters in your data.' % (data_size, vocab_size))"
   ]
  },
  {
   "cell_type": "code",
   "execution_count": 0,
   "metadata": {
    "colab": {
     "base_uri": "https://localhost:8080/",
     "height": 35
    },
    "colab_type": "code",
    "id": "qZF6dAB1-EZy",
    "outputId": "ef61098b-1653-4d5b-c443-ba6292a959e7"
   },
   "outputs": [
    {
     "data": {
      "text/plain": [
       "'lypha\\nacanthaceae\\nacanthodium\\nacantholimon\\nacanthopale\\nacanthophoenix\\nacanthus\\nacca\\nacer\\nachariaceae'"
      ]
     },
     "execution_count": 30,
     "metadata": {
      "tags": []
     },
     "output_type": "execute_result"
    }
   ],
   "source": [
    "chunks[100:200]"
   ]
  },
  {
   "cell_type": "code",
   "execution_count": 0,
   "metadata": {
    "colab": {
     "base_uri": "https://localhost:8080/",
     "height": 35
    },
    "colab_type": "code",
    "id": "Wl-sieDeSqJ9",
    "outputId": "32f94455-b03e-453b-c55a-566c09eb17cd"
   },
   "outputs": [
    {
     "data": {
      "text/plain": [
       "['zephyranthes', 'zigadenus', 'zinnia', 'zizania', 'zygopetalum']"
      ]
     },
     "execution_count": 31,
     "metadata": {
      "tags": []
     },
     "output_type": "execute_result"
    }
   ],
   "source": [
    "data_lower[-5:]"
   ]
  },
  {
   "cell_type": "code",
   "execution_count": 0,
   "metadata": {
    "colab": {
     "base_uri": "https://localhost:8080/",
     "height": 55
    },
    "colab_type": "code",
    "id": "9MOCtJHQSqJ_",
    "outputId": "f9217413-e437-4a45-8277-54f73e25ab81"
   },
   "outputs": [
    {
     "name": "stdout",
     "output_type": "stream",
     "text": [
      "{0: '\\n', 1: ' ', 2: ',', 3: 'a', 4: 'b', 5: 'c', 6: 'd', 7: 'e', 8: 'f', 9: 'g', 10: 'h', 11: 'i', 12: 'j', 13: 'k', 14: 'l', 15: 'm', 16: 'n', 17: 'o', 18: 'p', 19: 'q', 20: 'r', 21: 's', 22: 't', 23: 'u', 24: 'v', 25: 'w', 26: 'x', 27: 'y', 28: 'z'}\n"
     ]
    }
   ],
   "source": [
    "char_to_ix = { ch:i for i,ch in enumerate(sorted(chars)) }\n",
    "ix_to_char = { i:ch for i,ch in enumerate(sorted(chars)) }\n",
    "print(ix_to_char)"
   ]
  },
  {
   "cell_type": "markdown",
   "metadata": {
    "colab_type": "text",
    "id": "92buTR8yZJYe"
   },
   "source": [
    "Generate with input:\n",
    "\n",
    "length: input size\n",
    "\n",
    "target size:  the length of strings generated\n",
    "\n",
    "opt: the no padding or padding option"
   ]
  },
  {
   "cell_type": "code",
   "execution_count": 0,
   "metadata": {
    "colab": {},
    "colab_type": "code",
    "id": "LIoMoNigZIob"
   },
   "outputs": [],
   "source": [
    "def sample(preds, temperature=1):\n",
    "    # helper function to sample an index from a probability array\n",
    "    preds = preds.flatten()\n",
    "    preds = np.asarray(preds).astype('float64')\n",
    "    preds = np.log(preds) / temperature\n",
    "    exp_preds = np.exp(preds)\n",
    "    preds = exp_preds / np.sum(exp_preds)\n",
    "    #print(preds)\n",
    "    probas = np.random.multinomial(1, preds, 1)\n",
    "    return np.argmax(probas)\n",
    "\n",
    "def generate_with_length(model, length, targ, text, opt, initt=5, temperature=1):\n",
    "    global vocab_size\n",
    "    if opt == 'no_pre':\n",
    "        # using random input letters\n",
    "        first_chr = np.random.randint(0, vocab_size)\n",
    "        first_chr = initt\n",
    "        x_in = np.zeros((1, length, vocab_size))\n",
    "        x_in[0, - 1, first_chr] = 1\n",
    "        already = [first_chr]\n",
    "        for i in range(targ):\n",
    "            preds = model.predict(x_in)\n",
    "            id_max = sample(preds, temperature)\n",
    "            already.append(id_max)\n",
    "            for j in range(len(already)):\n",
    "                x_in[0, length + j - len(already), already[j]] = 1\n",
    "\n",
    "        string_generated = ''.join([ix_to_char[i] for i in already])\n",
    "        \n",
    "        return string_generated\n",
    "    elif opt == 'pre':\n",
    "        # using already existed text\n",
    "        start_index = random.randint(0, len(text) - length - 1)\n",
    "        start_index = initt\n",
    "        pre = text[start_index: start_index + length]\n",
    "        pre = [char_to_ix[char] for char in pre]\n",
    "        x_in = np.zeros((1, length, vocab_size))\n",
    "        for id, ix in enumerate(pre):\n",
    "            x_in[0, id, ix] = 1\n",
    "        \n",
    "        already = []\n",
    "        for i in range(targ):\n",
    "            preds = model.predict(x_in)\n",
    "            id_max = sample(preds, temperature)\n",
    "            pre = pre[1:] + [id_max]\n",
    "            x_in = np.zeros((1, length, vocab_size))\n",
    "            for id, ix in enumerate(pre):\n",
    "                x_in[0, id, ix]\n",
    "            already.append(id_max)\n",
    "            \n",
    "        string_generated = ''.join([ix_to_char[i] for i in already])\n",
    "        \n",
    "        return string_generated\n",
    "        \n",
    "    "
   ]
  },
  {
   "cell_type": "code",
   "execution_count": 0,
   "metadata": {
    "colab": {},
    "colab_type": "code",
    "id": "6_5Q_WeTfsjL"
   },
   "outputs": [],
   "source": [
    "# plot figure lof losses\n",
    "class PlotLosses(keras.callbacks.Callback):\n",
    "    def on_train_begin(self, logs={}):\n",
    "        self.i = 0\n",
    "        self.x = []\n",
    "        self.losses = []\n",
    "        self.val_losses = []\n",
    "        \n",
    "        self.fig = plt.figure()\n",
    "        \n",
    "        self.logs = []\n",
    "\n",
    "    def on_epoch_end(self, epoch, logs={}):\n",
    "        \n",
    "        self.logs.append(logs)\n",
    "        self.x.append(self.i)\n",
    "        self.losses.append(logs.get('loss'))\n",
    "        self.val_losses.append(logs.get('val_loss'))\n",
    "        self.i += 1\n",
    "        \n",
    "        clear_output(wait=True)\n",
    "        plt.plot(self.x, self.losses, label=\"loss\")\n",
    "        plt.plot(self.x, self.val_losses, label=\"val_loss\")\n",
    "        plt.legend()\n",
    "        plt.show();\n",
    "        \n",
    "plot_losses = PlotLosses()\n",
    "\n",
    "\n",
    "class generate_word(keras.callbacks.Callback):\n",
    "    def __init__(self, training_length, text, target_length=15, initt=5):\n",
    "        self.training_length = training_length\n",
    "        self.text = text\n",
    "        self.target_length = target_length\n",
    "        self.initt = initt\n",
    "    def on_epoch_end(self, epoch, logs={}):        \n",
    "        string_generated = generate_with_length(self.model, \n",
    "                                                self.training_length, \n",
    "                                                self.target_length, \n",
    "                                                self.text, 'no_pre', \n",
    "                                                self.initt)\n",
    "        print('epoch ' + str(epoch) + ': ' + string_generated)\n",
    "\n",
    "        \n",
    "class NBatchLogger(keras.callbacks.Callback):\n",
    "    def __init__(self, display):\n",
    "        self.seen = 0\n",
    "        self.display = display\n",
    "\n",
    "    def on_batch_end(self, batch, logs={}):\n",
    "        self.seen += logs.get('size', 0)\n",
    "        if self.seen % self.display == 0:\n",
    "            metrics_log = ''\n",
    "            for k in self.params['metrics']:\n",
    "                if k in logs:\n",
    "                    val = logs[k]\n",
    "                    if abs(val) > 1e-3:\n",
    "                        metrics_log += ' - %s: %.4f' % (k, val)\n",
    "                    else:\n",
    "                        metrics_log += ' - %s: %.4e' % (k, val)\n",
    "            print('{}/{} ... {}'.format(self.seen,\n",
    "                                        self.params['samples'],\n",
    "                                        metrics_log))"
   ]
  },
  {
   "cell_type": "markdown",
   "metadata": {
    "colab_type": "text",
    "id": "AbxpOG3DSqKI"
   },
   "source": [
    "## Prepare features and targets, features with zeros paddings infront of them."
   ]
  },
  {
   "cell_type": "code",
   "execution_count": 0,
   "metadata": {
    "colab": {},
    "colab_type": "code",
    "id": "JVZ9fzDBSqKJ"
   },
   "outputs": [],
   "source": [
    "features_padding = []\n",
    "labels_padding = []\n",
    "\n",
    "training_len_padding = np.max([len(plant) for plant in data_lower])\n",
    "training_len_padding = 15\n",
    "\n",
    "for plant in data_lower:\n",
    "    padded_plant = ''.join(['\\n' for i in range(training_len_padding - 1)]) + plant + '\\n'\n",
    "    # Create multiple training examples from each sequence\n",
    "    for i in range(len(plant) - 1):\n",
    "        \n",
    "        # Extract the features_0padding and label\n",
    "        sec = padded_plant[i:(i + training_len_padding + 1)]\n",
    "        extract = [char_to_ix[cha] for cha in sec]\n",
    "        \n",
    "        feature = extract[:-1]\n",
    "        features_padding.append(feature)\n",
    "        labels_padding.append(extract[-1])\n",
    "        #print(sec)\n",
    "features_padding = np.array(features_padding)"
   ]
  },
  {
   "cell_type": "code",
   "execution_count": 0,
   "metadata": {
    "colab": {},
    "colab_type": "code",
    "id": "Cp4f8m3rSqKO"
   },
   "outputs": [],
   "source": [
    "features_pd_padding = pd.DataFrame(features_padding)\n",
    "features_pd_padding_3d = to_categorical(features_pd_padding)\n",
    "labels_padding_array = to_categorical(labels_padding)"
   ]
  },
  {
   "cell_type": "code",
   "execution_count": 0,
   "metadata": {
    "colab": {
     "base_uri": "https://localhost:8080/",
     "height": 363
    },
    "colab_type": "code",
    "id": "Cq6_b8KFV4d1",
    "outputId": "bf9096cd-7803-4a9e-d510-fc7851c054ac"
   },
   "outputs": [
    {
     "data": {
      "text/html": [
       "<div>\n",
       "<style scoped>\n",
       "    .dataframe tbody tr th:only-of-type {\n",
       "        vertical-align: middle;\n",
       "    }\n",
       "\n",
       "    .dataframe tbody tr th {\n",
       "        vertical-align: top;\n",
       "    }\n",
       "\n",
       "    .dataframe thead th {\n",
       "        text-align: right;\n",
       "    }\n",
       "</style>\n",
       "<table border=\"1\" class=\"dataframe\">\n",
       "  <thead>\n",
       "    <tr style=\"text-align: right;\">\n",
       "      <th></th>\n",
       "      <th>0</th>\n",
       "      <th>1</th>\n",
       "      <th>2</th>\n",
       "      <th>3</th>\n",
       "      <th>4</th>\n",
       "      <th>5</th>\n",
       "      <th>6</th>\n",
       "      <th>7</th>\n",
       "      <th>8</th>\n",
       "      <th>9</th>\n",
       "      <th>10</th>\n",
       "      <th>11</th>\n",
       "      <th>12</th>\n",
       "      <th>13</th>\n",
       "      <th>14</th>\n",
       "    </tr>\n",
       "  </thead>\n",
       "  <tbody>\n",
       "    <tr>\n",
       "      <th>0</th>\n",
       "      <td>0</td>\n",
       "      <td>0</td>\n",
       "      <td>0</td>\n",
       "      <td>0</td>\n",
       "      <td>0</td>\n",
       "      <td>0</td>\n",
       "      <td>0</td>\n",
       "      <td>0</td>\n",
       "      <td>0</td>\n",
       "      <td>0</td>\n",
       "      <td>0</td>\n",
       "      <td>0</td>\n",
       "      <td>0</td>\n",
       "      <td>0</td>\n",
       "      <td>3</td>\n",
       "    </tr>\n",
       "    <tr>\n",
       "      <th>1</th>\n",
       "      <td>0</td>\n",
       "      <td>0</td>\n",
       "      <td>0</td>\n",
       "      <td>0</td>\n",
       "      <td>0</td>\n",
       "      <td>0</td>\n",
       "      <td>0</td>\n",
       "      <td>0</td>\n",
       "      <td>0</td>\n",
       "      <td>0</td>\n",
       "      <td>0</td>\n",
       "      <td>0</td>\n",
       "      <td>0</td>\n",
       "      <td>3</td>\n",
       "      <td>4</td>\n",
       "    </tr>\n",
       "    <tr>\n",
       "      <th>2</th>\n",
       "      <td>0</td>\n",
       "      <td>0</td>\n",
       "      <td>0</td>\n",
       "      <td>0</td>\n",
       "      <td>0</td>\n",
       "      <td>0</td>\n",
       "      <td>0</td>\n",
       "      <td>0</td>\n",
       "      <td>0</td>\n",
       "      <td>0</td>\n",
       "      <td>0</td>\n",
       "      <td>0</td>\n",
       "      <td>3</td>\n",
       "      <td>4</td>\n",
       "      <td>7</td>\n",
       "    </tr>\n",
       "    <tr>\n",
       "      <th>3</th>\n",
       "      <td>0</td>\n",
       "      <td>0</td>\n",
       "      <td>0</td>\n",
       "      <td>0</td>\n",
       "      <td>0</td>\n",
       "      <td>0</td>\n",
       "      <td>0</td>\n",
       "      <td>0</td>\n",
       "      <td>0</td>\n",
       "      <td>0</td>\n",
       "      <td>0</td>\n",
       "      <td>3</td>\n",
       "      <td>4</td>\n",
       "      <td>7</td>\n",
       "      <td>14</td>\n",
       "    </tr>\n",
       "    <tr>\n",
       "      <th>4</th>\n",
       "      <td>0</td>\n",
       "      <td>0</td>\n",
       "      <td>0</td>\n",
       "      <td>0</td>\n",
       "      <td>0</td>\n",
       "      <td>0</td>\n",
       "      <td>0</td>\n",
       "      <td>0</td>\n",
       "      <td>0</td>\n",
       "      <td>0</td>\n",
       "      <td>3</td>\n",
       "      <td>4</td>\n",
       "      <td>7</td>\n",
       "      <td>14</td>\n",
       "      <td>11</td>\n",
       "    </tr>\n",
       "    <tr>\n",
       "      <th>5</th>\n",
       "      <td>0</td>\n",
       "      <td>0</td>\n",
       "      <td>0</td>\n",
       "      <td>0</td>\n",
       "      <td>0</td>\n",
       "      <td>0</td>\n",
       "      <td>0</td>\n",
       "      <td>0</td>\n",
       "      <td>0</td>\n",
       "      <td>0</td>\n",
       "      <td>0</td>\n",
       "      <td>0</td>\n",
       "      <td>0</td>\n",
       "      <td>0</td>\n",
       "      <td>3</td>\n",
       "    </tr>\n",
       "    <tr>\n",
       "      <th>6</th>\n",
       "      <td>0</td>\n",
       "      <td>0</td>\n",
       "      <td>0</td>\n",
       "      <td>0</td>\n",
       "      <td>0</td>\n",
       "      <td>0</td>\n",
       "      <td>0</td>\n",
       "      <td>0</td>\n",
       "      <td>0</td>\n",
       "      <td>0</td>\n",
       "      <td>0</td>\n",
       "      <td>0</td>\n",
       "      <td>0</td>\n",
       "      <td>3</td>\n",
       "      <td>4</td>\n",
       "    </tr>\n",
       "    <tr>\n",
       "      <th>7</th>\n",
       "      <td>0</td>\n",
       "      <td>0</td>\n",
       "      <td>0</td>\n",
       "      <td>0</td>\n",
       "      <td>0</td>\n",
       "      <td>0</td>\n",
       "      <td>0</td>\n",
       "      <td>0</td>\n",
       "      <td>0</td>\n",
       "      <td>0</td>\n",
       "      <td>0</td>\n",
       "      <td>0</td>\n",
       "      <td>3</td>\n",
       "      <td>4</td>\n",
       "      <td>7</td>\n",
       "    </tr>\n",
       "    <tr>\n",
       "      <th>8</th>\n",
       "      <td>0</td>\n",
       "      <td>0</td>\n",
       "      <td>0</td>\n",
       "      <td>0</td>\n",
       "      <td>0</td>\n",
       "      <td>0</td>\n",
       "      <td>0</td>\n",
       "      <td>0</td>\n",
       "      <td>0</td>\n",
       "      <td>0</td>\n",
       "      <td>0</td>\n",
       "      <td>3</td>\n",
       "      <td>4</td>\n",
       "      <td>7</td>\n",
       "      <td>14</td>\n",
       "    </tr>\n",
       "    <tr>\n",
       "      <th>9</th>\n",
       "      <td>0</td>\n",
       "      <td>0</td>\n",
       "      <td>0</td>\n",
       "      <td>0</td>\n",
       "      <td>0</td>\n",
       "      <td>0</td>\n",
       "      <td>0</td>\n",
       "      <td>0</td>\n",
       "      <td>0</td>\n",
       "      <td>0</td>\n",
       "      <td>3</td>\n",
       "      <td>4</td>\n",
       "      <td>7</td>\n",
       "      <td>14</td>\n",
       "      <td>11</td>\n",
       "    </tr>\n",
       "  </tbody>\n",
       "</table>\n",
       "</div>"
      ],
      "text/plain": [
       "   0   1   2   3   4   5   6   7   8   9   10  11  12  13  14\n",
       "0   0   0   0   0   0   0   0   0   0   0   0   0   0   0   3\n",
       "1   0   0   0   0   0   0   0   0   0   0   0   0   0   3   4\n",
       "2   0   0   0   0   0   0   0   0   0   0   0   0   3   4   7\n",
       "3   0   0   0   0   0   0   0   0   0   0   0   3   4   7  14\n",
       "4   0   0   0   0   0   0   0   0   0   0   3   4   7  14  11\n",
       "5   0   0   0   0   0   0   0   0   0   0   0   0   0   0   3\n",
       "6   0   0   0   0   0   0   0   0   0   0   0   0   0   3   4\n",
       "7   0   0   0   0   0   0   0   0   0   0   0   0   3   4   7\n",
       "8   0   0   0   0   0   0   0   0   0   0   0   3   4   7  14\n",
       "9   0   0   0   0   0   0   0   0   0   0   3   4   7  14  11"
      ]
     },
     "execution_count": 85,
     "metadata": {
      "tags": []
     },
     "output_type": "execute_result"
    }
   ],
   "source": [
    "features_pd_padding.head(10)"
   ]
  },
  {
   "cell_type": "code",
   "execution_count": 0,
   "metadata": {
    "colab": {
     "base_uri": "https://localhost:8080/",
     "height": 363
    },
    "colab_type": "code",
    "id": "V21wQ6-vV8cN",
    "outputId": "7f10ca73-bd44-41f3-fd46-379a9c42183d"
   },
   "outputs": [
    {
     "data": {
      "text/html": [
       "<div>\n",
       "<style scoped>\n",
       "    .dataframe tbody tr th:only-of-type {\n",
       "        vertical-align: middle;\n",
       "    }\n",
       "\n",
       "    .dataframe tbody tr th {\n",
       "        vertical-align: top;\n",
       "    }\n",
       "\n",
       "    .dataframe thead th {\n",
       "        text-align: right;\n",
       "    }\n",
       "</style>\n",
       "<table border=\"1\" class=\"dataframe\">\n",
       "  <thead>\n",
       "    <tr style=\"text-align: right;\">\n",
       "      <th></th>\n",
       "      <th>0</th>\n",
       "      <th>1</th>\n",
       "      <th>2</th>\n",
       "      <th>3</th>\n",
       "      <th>4</th>\n",
       "      <th>5</th>\n",
       "      <th>6</th>\n",
       "      <th>7</th>\n",
       "      <th>8</th>\n",
       "      <th>9</th>\n",
       "      <th>10</th>\n",
       "      <th>11</th>\n",
       "      <th>12</th>\n",
       "      <th>13</th>\n",
       "      <th>14</th>\n",
       "      <th>15</th>\n",
       "      <th>16</th>\n",
       "      <th>17</th>\n",
       "      <th>18</th>\n",
       "      <th>19</th>\n",
       "      <th>20</th>\n",
       "      <th>21</th>\n",
       "      <th>22</th>\n",
       "      <th>23</th>\n",
       "      <th>24</th>\n",
       "      <th>25</th>\n",
       "      <th>26</th>\n",
       "      <th>27</th>\n",
       "      <th>28</th>\n",
       "    </tr>\n",
       "  </thead>\n",
       "  <tbody>\n",
       "    <tr>\n",
       "      <th>0</th>\n",
       "      <td>0.0</td>\n",
       "      <td>0.0</td>\n",
       "      <td>0.0</td>\n",
       "      <td>0.0</td>\n",
       "      <td>1.0</td>\n",
       "      <td>0.0</td>\n",
       "      <td>0.0</td>\n",
       "      <td>0.0</td>\n",
       "      <td>0.0</td>\n",
       "      <td>0.0</td>\n",
       "      <td>0.0</td>\n",
       "      <td>0.0</td>\n",
       "      <td>0.0</td>\n",
       "      <td>0.0</td>\n",
       "      <td>0.0</td>\n",
       "      <td>0.0</td>\n",
       "      <td>0.0</td>\n",
       "      <td>0.0</td>\n",
       "      <td>0.0</td>\n",
       "      <td>0.0</td>\n",
       "      <td>0.0</td>\n",
       "      <td>0.0</td>\n",
       "      <td>0.0</td>\n",
       "      <td>0.0</td>\n",
       "      <td>0.0</td>\n",
       "      <td>0.0</td>\n",
       "      <td>0.0</td>\n",
       "      <td>0.0</td>\n",
       "      <td>0.0</td>\n",
       "    </tr>\n",
       "    <tr>\n",
       "      <th>1</th>\n",
       "      <td>0.0</td>\n",
       "      <td>0.0</td>\n",
       "      <td>0.0</td>\n",
       "      <td>0.0</td>\n",
       "      <td>0.0</td>\n",
       "      <td>0.0</td>\n",
       "      <td>0.0</td>\n",
       "      <td>1.0</td>\n",
       "      <td>0.0</td>\n",
       "      <td>0.0</td>\n",
       "      <td>0.0</td>\n",
       "      <td>0.0</td>\n",
       "      <td>0.0</td>\n",
       "      <td>0.0</td>\n",
       "      <td>0.0</td>\n",
       "      <td>0.0</td>\n",
       "      <td>0.0</td>\n",
       "      <td>0.0</td>\n",
       "      <td>0.0</td>\n",
       "      <td>0.0</td>\n",
       "      <td>0.0</td>\n",
       "      <td>0.0</td>\n",
       "      <td>0.0</td>\n",
       "      <td>0.0</td>\n",
       "      <td>0.0</td>\n",
       "      <td>0.0</td>\n",
       "      <td>0.0</td>\n",
       "      <td>0.0</td>\n",
       "      <td>0.0</td>\n",
       "    </tr>\n",
       "    <tr>\n",
       "      <th>2</th>\n",
       "      <td>0.0</td>\n",
       "      <td>0.0</td>\n",
       "      <td>0.0</td>\n",
       "      <td>0.0</td>\n",
       "      <td>0.0</td>\n",
       "      <td>0.0</td>\n",
       "      <td>0.0</td>\n",
       "      <td>0.0</td>\n",
       "      <td>0.0</td>\n",
       "      <td>0.0</td>\n",
       "      <td>0.0</td>\n",
       "      <td>0.0</td>\n",
       "      <td>0.0</td>\n",
       "      <td>0.0</td>\n",
       "      <td>1.0</td>\n",
       "      <td>0.0</td>\n",
       "      <td>0.0</td>\n",
       "      <td>0.0</td>\n",
       "      <td>0.0</td>\n",
       "      <td>0.0</td>\n",
       "      <td>0.0</td>\n",
       "      <td>0.0</td>\n",
       "      <td>0.0</td>\n",
       "      <td>0.0</td>\n",
       "      <td>0.0</td>\n",
       "      <td>0.0</td>\n",
       "      <td>0.0</td>\n",
       "      <td>0.0</td>\n",
       "      <td>0.0</td>\n",
       "    </tr>\n",
       "    <tr>\n",
       "      <th>3</th>\n",
       "      <td>0.0</td>\n",
       "      <td>0.0</td>\n",
       "      <td>0.0</td>\n",
       "      <td>0.0</td>\n",
       "      <td>0.0</td>\n",
       "      <td>0.0</td>\n",
       "      <td>0.0</td>\n",
       "      <td>0.0</td>\n",
       "      <td>0.0</td>\n",
       "      <td>0.0</td>\n",
       "      <td>0.0</td>\n",
       "      <td>1.0</td>\n",
       "      <td>0.0</td>\n",
       "      <td>0.0</td>\n",
       "      <td>0.0</td>\n",
       "      <td>0.0</td>\n",
       "      <td>0.0</td>\n",
       "      <td>0.0</td>\n",
       "      <td>0.0</td>\n",
       "      <td>0.0</td>\n",
       "      <td>0.0</td>\n",
       "      <td>0.0</td>\n",
       "      <td>0.0</td>\n",
       "      <td>0.0</td>\n",
       "      <td>0.0</td>\n",
       "      <td>0.0</td>\n",
       "      <td>0.0</td>\n",
       "      <td>0.0</td>\n",
       "      <td>0.0</td>\n",
       "    </tr>\n",
       "    <tr>\n",
       "      <th>4</th>\n",
       "      <td>0.0</td>\n",
       "      <td>0.0</td>\n",
       "      <td>0.0</td>\n",
       "      <td>1.0</td>\n",
       "      <td>0.0</td>\n",
       "      <td>0.0</td>\n",
       "      <td>0.0</td>\n",
       "      <td>0.0</td>\n",
       "      <td>0.0</td>\n",
       "      <td>0.0</td>\n",
       "      <td>0.0</td>\n",
       "      <td>0.0</td>\n",
       "      <td>0.0</td>\n",
       "      <td>0.0</td>\n",
       "      <td>0.0</td>\n",
       "      <td>0.0</td>\n",
       "      <td>0.0</td>\n",
       "      <td>0.0</td>\n",
       "      <td>0.0</td>\n",
       "      <td>0.0</td>\n",
       "      <td>0.0</td>\n",
       "      <td>0.0</td>\n",
       "      <td>0.0</td>\n",
       "      <td>0.0</td>\n",
       "      <td>0.0</td>\n",
       "      <td>0.0</td>\n",
       "      <td>0.0</td>\n",
       "      <td>0.0</td>\n",
       "      <td>0.0</td>\n",
       "    </tr>\n",
       "    <tr>\n",
       "      <th>5</th>\n",
       "      <td>0.0</td>\n",
       "      <td>0.0</td>\n",
       "      <td>0.0</td>\n",
       "      <td>0.0</td>\n",
       "      <td>1.0</td>\n",
       "      <td>0.0</td>\n",
       "      <td>0.0</td>\n",
       "      <td>0.0</td>\n",
       "      <td>0.0</td>\n",
       "      <td>0.0</td>\n",
       "      <td>0.0</td>\n",
       "      <td>0.0</td>\n",
       "      <td>0.0</td>\n",
       "      <td>0.0</td>\n",
       "      <td>0.0</td>\n",
       "      <td>0.0</td>\n",
       "      <td>0.0</td>\n",
       "      <td>0.0</td>\n",
       "      <td>0.0</td>\n",
       "      <td>0.0</td>\n",
       "      <td>0.0</td>\n",
       "      <td>0.0</td>\n",
       "      <td>0.0</td>\n",
       "      <td>0.0</td>\n",
       "      <td>0.0</td>\n",
       "      <td>0.0</td>\n",
       "      <td>0.0</td>\n",
       "      <td>0.0</td>\n",
       "      <td>0.0</td>\n",
       "    </tr>\n",
       "    <tr>\n",
       "      <th>6</th>\n",
       "      <td>0.0</td>\n",
       "      <td>0.0</td>\n",
       "      <td>0.0</td>\n",
       "      <td>0.0</td>\n",
       "      <td>0.0</td>\n",
       "      <td>0.0</td>\n",
       "      <td>0.0</td>\n",
       "      <td>1.0</td>\n",
       "      <td>0.0</td>\n",
       "      <td>0.0</td>\n",
       "      <td>0.0</td>\n",
       "      <td>0.0</td>\n",
       "      <td>0.0</td>\n",
       "      <td>0.0</td>\n",
       "      <td>0.0</td>\n",
       "      <td>0.0</td>\n",
       "      <td>0.0</td>\n",
       "      <td>0.0</td>\n",
       "      <td>0.0</td>\n",
       "      <td>0.0</td>\n",
       "      <td>0.0</td>\n",
       "      <td>0.0</td>\n",
       "      <td>0.0</td>\n",
       "      <td>0.0</td>\n",
       "      <td>0.0</td>\n",
       "      <td>0.0</td>\n",
       "      <td>0.0</td>\n",
       "      <td>0.0</td>\n",
       "      <td>0.0</td>\n",
       "    </tr>\n",
       "    <tr>\n",
       "      <th>7</th>\n",
       "      <td>0.0</td>\n",
       "      <td>0.0</td>\n",
       "      <td>0.0</td>\n",
       "      <td>0.0</td>\n",
       "      <td>0.0</td>\n",
       "      <td>0.0</td>\n",
       "      <td>0.0</td>\n",
       "      <td>0.0</td>\n",
       "      <td>0.0</td>\n",
       "      <td>0.0</td>\n",
       "      <td>0.0</td>\n",
       "      <td>0.0</td>\n",
       "      <td>0.0</td>\n",
       "      <td>0.0</td>\n",
       "      <td>1.0</td>\n",
       "      <td>0.0</td>\n",
       "      <td>0.0</td>\n",
       "      <td>0.0</td>\n",
       "      <td>0.0</td>\n",
       "      <td>0.0</td>\n",
       "      <td>0.0</td>\n",
       "      <td>0.0</td>\n",
       "      <td>0.0</td>\n",
       "      <td>0.0</td>\n",
       "      <td>0.0</td>\n",
       "      <td>0.0</td>\n",
       "      <td>0.0</td>\n",
       "      <td>0.0</td>\n",
       "      <td>0.0</td>\n",
       "    </tr>\n",
       "    <tr>\n",
       "      <th>8</th>\n",
       "      <td>0.0</td>\n",
       "      <td>0.0</td>\n",
       "      <td>0.0</td>\n",
       "      <td>0.0</td>\n",
       "      <td>0.0</td>\n",
       "      <td>0.0</td>\n",
       "      <td>0.0</td>\n",
       "      <td>0.0</td>\n",
       "      <td>0.0</td>\n",
       "      <td>0.0</td>\n",
       "      <td>0.0</td>\n",
       "      <td>1.0</td>\n",
       "      <td>0.0</td>\n",
       "      <td>0.0</td>\n",
       "      <td>0.0</td>\n",
       "      <td>0.0</td>\n",
       "      <td>0.0</td>\n",
       "      <td>0.0</td>\n",
       "      <td>0.0</td>\n",
       "      <td>0.0</td>\n",
       "      <td>0.0</td>\n",
       "      <td>0.0</td>\n",
       "      <td>0.0</td>\n",
       "      <td>0.0</td>\n",
       "      <td>0.0</td>\n",
       "      <td>0.0</td>\n",
       "      <td>0.0</td>\n",
       "      <td>0.0</td>\n",
       "      <td>0.0</td>\n",
       "    </tr>\n",
       "    <tr>\n",
       "      <th>9</th>\n",
       "      <td>0.0</td>\n",
       "      <td>0.0</td>\n",
       "      <td>0.0</td>\n",
       "      <td>0.0</td>\n",
       "      <td>0.0</td>\n",
       "      <td>0.0</td>\n",
       "      <td>0.0</td>\n",
       "      <td>0.0</td>\n",
       "      <td>0.0</td>\n",
       "      <td>0.0</td>\n",
       "      <td>0.0</td>\n",
       "      <td>0.0</td>\n",
       "      <td>0.0</td>\n",
       "      <td>0.0</td>\n",
       "      <td>0.0</td>\n",
       "      <td>0.0</td>\n",
       "      <td>0.0</td>\n",
       "      <td>1.0</td>\n",
       "      <td>0.0</td>\n",
       "      <td>0.0</td>\n",
       "      <td>0.0</td>\n",
       "      <td>0.0</td>\n",
       "      <td>0.0</td>\n",
       "      <td>0.0</td>\n",
       "      <td>0.0</td>\n",
       "      <td>0.0</td>\n",
       "      <td>0.0</td>\n",
       "      <td>0.0</td>\n",
       "      <td>0.0</td>\n",
       "    </tr>\n",
       "  </tbody>\n",
       "</table>\n",
       "</div>"
      ],
      "text/plain": [
       "    0    1    2    3    4    5    6   ...   22   23   24   25   26   27   28\n",
       "0  0.0  0.0  0.0  0.0  1.0  0.0  0.0  ...  0.0  0.0  0.0  0.0  0.0  0.0  0.0\n",
       "1  0.0  0.0  0.0  0.0  0.0  0.0  0.0  ...  0.0  0.0  0.0  0.0  0.0  0.0  0.0\n",
       "2  0.0  0.0  0.0  0.0  0.0  0.0  0.0  ...  0.0  0.0  0.0  0.0  0.0  0.0  0.0\n",
       "3  0.0  0.0  0.0  0.0  0.0  0.0  0.0  ...  0.0  0.0  0.0  0.0  0.0  0.0  0.0\n",
       "4  0.0  0.0  0.0  1.0  0.0  0.0  0.0  ...  0.0  0.0  0.0  0.0  0.0  0.0  0.0\n",
       "5  0.0  0.0  0.0  0.0  1.0  0.0  0.0  ...  0.0  0.0  0.0  0.0  0.0  0.0  0.0\n",
       "6  0.0  0.0  0.0  0.0  0.0  0.0  0.0  ...  0.0  0.0  0.0  0.0  0.0  0.0  0.0\n",
       "7  0.0  0.0  0.0  0.0  0.0  0.0  0.0  ...  0.0  0.0  0.0  0.0  0.0  0.0  0.0\n",
       "8  0.0  0.0  0.0  0.0  0.0  0.0  0.0  ...  0.0  0.0  0.0  0.0  0.0  0.0  0.0\n",
       "9  0.0  0.0  0.0  0.0  0.0  0.0  0.0  ...  0.0  0.0  0.0  0.0  0.0  0.0  0.0\n",
       "\n",
       "[10 rows x 29 columns]"
      ]
     },
     "execution_count": 86,
     "metadata": {
      "tags": []
     },
     "output_type": "execute_result"
    }
   ],
   "source": [
    "pd.DataFrame(labels_padding_array).head(10)"
   ]
  },
  {
   "cell_type": "code",
   "execution_count": 0,
   "metadata": {
    "colab": {
     "base_uri": "https://localhost:8080/",
     "height": 54
    },
    "colab_type": "code",
    "id": "qZKtM-K9Wjng",
    "outputId": "fa2ff6e5-7c96-45af-9e98-e9f64058f96f"
   },
   "outputs": [
    {
     "name": "stdout",
     "output_type": "stream",
     "text": [
      "(18328, 15, 29)\n",
      "(18328, 29)\n"
     ]
    }
   ],
   "source": [
    "print(features_pd_padding_3d.shape)\n",
    "print(labels_padding_array.shape)"
   ]
  },
  {
   "cell_type": "code",
   "execution_count": 0,
   "metadata": {
    "colab": {},
    "colab_type": "code",
    "id": "WyIfSi9efc36"
   },
   "outputs": [],
   "source": [
    "from sklearn.model_selection import train_test_split\n",
    "X_train_padding, X_valid_padding, y_train_padding, y_valid_padding = train_test_split(\n",
    "    features_pd_padding_3d, labels_padding_array, test_size=0.20, random_state=23)"
   ]
  },
  {
   "cell_type": "markdown",
   "metadata": {
    "colab_type": "text",
    "id": "exkpEVREYs70"
   },
   "source": [
    "Model_1 definition"
   ]
  },
  {
   "cell_type": "code",
   "execution_count": 0,
   "metadata": {
    "colab": {},
    "colab_type": "code",
    "id": "3kmJdl2IYkfv"
   },
   "outputs": [],
   "source": [
    "model_1 = Sequential()\n",
    "'''\n",
    "# Embedding layer\n",
    "model.add(\n",
    "    Embedding(input_dim=num_words,\n",
    "              input_length = training_length,\n",
    "              output_dim=100,\n",
    "              weights=[embedding_matrix],\n",
    "              trainable=False,\n",
    "              mask_zero=True))\n",
    "\n",
    "# Masking layer for pre-trained embeddings\n",
    "model.add(Masking(mask_value=0.0))\n",
    "\n",
    "model.add(Embedding(input_dim=vocab_size,\n",
    "                    input_length = training_length,\n",
    "                    output_dim=30))\n",
    "'''\n",
    "# Recurrent layer\n",
    "model_1.add(LSTM(128, input_shape=(training_len_padding, vocab_size)))\n",
    "\n",
    "# Fully connected layer\n",
    "model_1.add(Dense(64,  activation='relu'))\n",
    "\n",
    "# Fully connected layer\n",
    "model_1.add(Dense(32, activation='relu'))\n",
    "\n",
    "# Dropout for regularization\n",
    "model_1.add(Dropout(0.1))\n",
    "\n",
    "# Output layer\n",
    "model_1.add(Dense(vocab_size, activation='softmax'))\n",
    "\n",
    "\n",
    "sgd = optimizers.SGD(lr=0.1, decay=1e-5, momentum=0.85, nesterov=True)\n",
    "adam = optimizers.Adam(lr=0.001, beta_1=0.9, beta_2=0.999)\n",
    "rmsprop = optimizers.RMSprop(lr=0.01)\n",
    "\n",
    "# Compile the model\n",
    "model_1.compile(optimizer=rmsprop, \n",
    "              loss='categorical_crossentropy',\n",
    "              metrics=['accuracy'])"
   ]
  },
  {
   "cell_type": "markdown",
   "metadata": {
    "colab_type": "text",
    "id": "fbqB3SFThOcH"
   },
   "source": [
    "Create call backs to monitor output"
   ]
  },
  {
   "cell_type": "code",
   "execution_count": 0,
   "metadata": {
    "colab": {},
    "colab_type": "code",
    "id": "peeApaAwhNmj"
   },
   "outputs": [],
   "source": [
    "generate_callbacks = generate_word(training_len_padding, chunks)\n",
    "Nbatch = NBatchLogger(display=10)\n",
    "callbacks_1 = [EarlyStopping(monitor='val_loss', patience=10), plot_losses]"
   ]
  },
  {
   "cell_type": "code",
   "execution_count": 0,
   "metadata": {
    "colab": {
     "base_uri": "https://localhost:8080/",
     "height": 269
    },
    "colab_type": "code",
    "id": "v9ZaW3MMhXYe",
    "outputId": "5d9a87ab-7e30-4d61-ced7-68ab5b7d7a75"
   },
   "outputs": [
    {
     "data": {
      "image/png": "[encoded data removed]",
      "text/plain": [
       "<Figure size 432x288 with 1 Axes>"
      ]
     },
     "metadata": {
      "tags": []
     },
     "output_type": "display_data"
    }
   ],
   "source": [
    "history = model_1.fit(X_train_padding,  y_train_padding, \n",
    "                    batch_size=4096, epochs=500,\n",
    "                    callbacks=callbacks_1,\n",
    "                    validation_data=(X_valid_padding, y_valid_padding))"
   ]
  },
  {
   "cell_type": "markdown",
   "metadata": {
    "colab_type": "text",
    "id": "Ik2553bRh0FQ"
   },
   "source": [
    "Generate a few examples"
   ]
  },
  {
   "cell_type": "code",
   "execution_count": 0,
   "metadata": {
    "colab": {
     "base_uri": "https://localhost:8080/",
     "height": 660
    },
    "colab_type": "code",
    "id": "nrrJ2mHXhaE9",
    "outputId": "28d8843a-b83d-4f97-dc66-65bda3a5a44b"
   },
   "outputs": [
    {
     "name": "stdout",
     "output_type": "stream",
     "text": [
      "len 5 temperature at 0.1: heonnn heonnn haerna hoennn heonnn\n",
      "len 6 temperature at 0.1: helloar heonnnr heonnnr heonnnr hoennnr\n",
      "len 7 temperature at 0.1: hoennnri haernina hoennnri hoennnri hoennnri\n",
      "len 8 temperature at 0.1: haerninaa heonnnria heornnnna heonnnria heonnnria\n",
      "len 9 temperature at 0.1: heonnnrian heonnnrian hoennnrian heonnnrian hoennnrian\n",
      "len 10 temperature at 0.1: heonnnriann heonnnriann hoennnriann heonnnriann hoennnriann\n",
      "len 11 temperature at 0.1: heornnnnannn hoennnriannn haernanaaaaa hoennnriannn heonnnriannn\n",
      "len 12 temperature at 0.1: hoennnriannnn hoennnriannnn hoennnriannnn heonnnriannnn heonnnriannnn\n",
      "len 13 temperature at 0.1: heonnnriannnnn haernnnaaaaaaa heonnnroannnnn heonnnriannnnn heonnnriannnnn\n",
      "len 14 temperature at 0.1: hoannnnennnnnnn haerninaaaaaaaa heonnnriannnnnn heonnnriannnnnn hoennnriannnnnn\n",
      "len 5 temperature at 1: hoennr hyearg haraon hemoll haemlo\n",
      "len 6 temperature at 1: horrsib hioannn haemloa himaama hoanscy\n",
      "len 7 temperature at 1: hoarrnca hoegnmoa husdalge hulmammm hourgnam\n",
      "len 8 temperature at 1: hayrnaesn heragaeia hooyncera hyarndeea hesniannn\n",
      "len 9 temperature at 1: hiionncsps hionnnoacp hoinnnnaxd hrotgioaan haemneeeee\n",
      "len 10 temperature at 1: halemaaoana hermaaaalaa hiolannnnoo huamlormeng hoynrstoaci\n",
      "len 11 temperature at 1: hoernniannnn heanrleeeeoo heoannnnnrnn hyamnalaenna haremifnonnn\n",
      "len 12 temperature at 1: hroannnnennnn hoyssppysssss healraaneeaaa hermalonaeunm heargonenrenn\n",
      "len 13 temperature at 1: huosncissssard hionnneptanaas halealnnaireon hoymnotlaennnn hirarmaaaaaaaa\n",
      "len 14 temperature at 1: hoinnannpssoaoo hourngeoguegica harmionnnnnnana hiytsansnsaaaon haemneeeonnnnnn\n",
      "len 5 temperature at 10: hrueqa hwrait hbydgi hvudlb hotwwb\n",
      "len 6 temperature at 10: hleasza hbixazm h kduya hfhrlrf hhbbanu\n",
      "len 7 temperature at 10: hrlldaid hdeiyhxf hrspmaon hp\n",
      "rruba hpevlued\n",
      "len 8 temperature at 10: hofednsma h juzuaro hawyraoby hp\n",
      "pnvaie huarzogro\n",
      "len 9 temperature at 10: huhswigimo hy,bpfzrmb hsryencfwa hndmainmiw hnoi,t tex\n",
      "len 10 temperature at 10: hai,ocsziji hfefmiuncic hfaiizyogis h,ys\n",
      "snxufe hcnloidbsni\n",
      "len 11 temperature at 10: hcasohmperra hdelllcrlou\n",
      " hziyrmhauosd hfruegczmnin hjgannrowwyl\n",
      "len 12 temperature at 10: hnanzbcnyyuol hnezvaiiiultt heecxlnriraii huff q\n",
      "uudxui hl libdothmke\n",
      "len 13 temperature at 10: hwcpzviaetmzha hjleafmboyyaea hhgeekfarsmpfr hchhusmleurno  hhcdygibadeoea\n",
      "len 14 temperature at 10: hlexaigorgtoori hmeovkiuagfwlof hmhiolcey,reoeu hywnezlknvrolio haany zbeiacosn\n"
     ]
    }
   ],
   "source": [
    "for temperature in [0.1, 1, 10]:\n",
    "    for target_len in range(5, 15):\n",
    "        temp = []\n",
    "        for i in range(5):\n",
    "            res = generate_with_length(model_1, training_len_padding, \n",
    "                                       target_len, chunks, 'no_pre', \n",
    "                                       initt=10, temperature=temperature)\n",
    "            temp.append(res)\n",
    "        print('len ' + str(target_len) + ' temperature at ' + str(temperature)\n",
    "              + ': ' + ' '.join(temp))"
   ]
  },
  {
   "cell_type": "code",
   "execution_count": 0,
   "metadata": {
    "colab": {
     "base_uri": "https://localhost:8080/",
     "height": 219
    },
    "colab_type": "code",
    "id": "AhNlEZXBp1-h",
    "outputId": "af8fdd22-2e8d-4266-9070-a843808e4c29"
   },
   "outputs": [
    {
     "name": "stdout",
     "output_type": "stream",
     "text": [
      "len 5: n\n",
      "ubl aacbg nteuy nmgog nwoay\n",
      "len 6: ncemcp npejtg noqiws odnmmd aeshze\n",
      "len 7: nlyisfo nrafyoc naltotr atphbpl aalfioh\n",
      "len 8: afgaocci ssobybyt adpaoomc nduntubn nfavppat\n",
      "len 9: nifcntnip svcaxdcia ngci ayoh nuoaagtbe auglosoml\n",
      "len 10: nhycozreie agkuavriaz nboznrpuel npmtrdhagb nfqoh,tpzd\n",
      "len 11: ntnayozgpwz nahppoac na syasorawaxx aomuiniblbs aoeomocpnnr\n",
      "len 12: ngqagydgumwi ngduipiscrir naxtobmbsefy nbilpcvuvias xbiepntrlslp\n",
      "len 13: nxuipcaibmvce nfudiwoniegoz acoduapdoafdc abbcnuevsetae nkbucepae,dbu\n",
      "len 14: aikslhbfooxovp ahrtgoyfuueewr sesvgsingpdmup nommbhphivfumw nczemel,gntntn\n"
     ]
    }
   ],
   "source": [
    "for target_len in range(5, 15):\n",
    "    temp = []\n",
    "    for i in range(5):\n",
    "        res = generate_with_length(model_1, training_len_padding, target_len, chunks, 'pre', initt=6, temperature=1)\n",
    "        temp.append(res)\n",
    "    print('len ' + str(target_len) + ': ' + ' '.join(temp))"
   ]
  },
  {
   "cell_type": "markdown",
   "metadata": {
    "colab_type": "text",
    "id": "B2i01nXohJUY"
   },
   "source": [
    "## Prepare features and targets, features with continuous values ahead of them"
   ]
  },
  {
   "cell_type": "code",
   "execution_count": 0,
   "metadata": {
    "colab": {
     "base_uri": "https://localhost:8080/",
     "height": 54
    },
    "colab_type": "code",
    "id": "ydM-a13T-NOO",
    "outputId": "57d2e2e5-704f-4b5f-f748-7f0624aa4c4c"
   },
   "outputs": [
    {
     "name": "stdout",
     "output_type": "stream",
     "text": [
      "(22826, 15, 29)\n",
      "(22826, 29)\n"
     ]
    }
   ],
   "source": [
    "training_length = 15\n",
    "\n",
    "features = []\n",
    "labels = []\n",
    "\n",
    "for i in range(0, len(chunks) - training_length):\n",
    "    ff = chunks[i:i + training_length]\n",
    "    ll = chunks[i + training_length]\n",
    "    features.append([char_to_ix[cha] for cha in ff])\n",
    "    labels.append(char_to_ix[ll])\n",
    "    \n",
    "features_pd = pd.DataFrame(features)\n",
    "features_pd.head()\n",
    "features_pd_3d = to_categorical(features_pd)\n",
    "print(features_pd_3d.shape)\n",
    "\n",
    "labels_array = to_categorical(labels)\n",
    "print(labels_array.shape)\n"
   ]
  },
  {
   "cell_type": "code",
   "execution_count": 0,
   "metadata": {
    "colab": {},
    "colab_type": "code",
    "id": "5HrctpsQSqKa"
   },
   "outputs": [],
   "source": [
    "from sklearn.model_selection import train_test_split\n",
    "X_train, X_valid, y_train, y_valid = train_test_split(\n",
    "    features_pd_3d, labels_array, test_size=0.20, random_state=142)"
   ]
  },
  {
   "cell_type": "code",
   "execution_count": 0,
   "metadata": {
    "colab": {},
    "colab_type": "code",
    "id": "c12Ln-epSqKd"
   },
   "outputs": [],
   "source": [
    "model_2 = Sequential()\n",
    "'''\n",
    "# Embedding layer\n",
    "model_2.add(\n",
    "    Embedding(input_dim=num_words,\n",
    "              input_length = training_length,\n",
    "              output_dim=100,\n",
    "              weights=[embedding_matrix],\n",
    "              trainable=False,\n",
    "              mask_zero=True))\n",
    "\n",
    "# Masking layer for pre-trained embeddings\n",
    "model_2.add(Masking(mask_value=0.0))\n",
    "\n",
    "model_2.add(Embedding(input_dim=vocab_size,\n",
    "                    input_length = training_length,\n",
    "                    output_dim=30))\n",
    "'''\n",
    "# Recurrent layer\n",
    "model_2.add(LSTM(128, input_shape=(training_length, vocab_size)))\n",
    "\n",
    "# Fully connected layer\n",
    "model_2.add(Dense(32, activation='relu'))\n",
    "\n",
    "# Dropout for regularization\n",
    "model_2.add(Dropout(0.2))\n",
    "\n",
    "# Output layer\n",
    "model_2.add(Dense(vocab_size, activation='softmax'))\n",
    "\n",
    "\n",
    "sgd = optimizers.SGD(lr=0.1, decay=1e-5, momentum=0.85, nesterov=True)\n",
    "adam = optimizers.Adam(lr=0.001, beta_1=0.9, beta_2=0.999)\n",
    "rmsprop = optimizers.RMSprop(lr=0.01)\n",
    "\n",
    "# Compile the model_2\n",
    "model_2.compile(\n",
    "    optimizer=rmsprop, loss='categorical_crossentropy', metrics=['accuracy'])"
   ]
  },
  {
   "cell_type": "code",
   "execution_count": 0,
   "metadata": {
    "colab": {},
    "colab_type": "code",
    "id": "OOtQ0nRIQ3oh"
   },
   "outputs": [],
   "source": [
    "callbacks = [EarlyStopping(monitor='val_loss', patience=5),\n",
    "             ModelCheckpoint(('./models/model.h5'), save_best_only=True, \n",
    "                             save_weights_only=False), plot_losses]\n",
    "\n",
    "callbacks_2 = [EarlyStopping(monitor='val_loss', patience=10), plot_losses]"
   ]
  },
  {
   "cell_type": "code",
   "execution_count": 0,
   "metadata": {
    "colab": {
     "base_uri": "https://localhost:8080/",
     "height": 269
    },
    "colab_type": "code",
    "id": "Np8ThJUySqKr",
    "outputId": "da8a9bc5-8a48-4576-d48b-f114aa63b098"
   },
   "outputs": [
    {
     "data": {
      "image/png": "[encoded data removed]",
      "text/plain": [
       "<Figure size 432x288 with 1 Axes>"
      ]
     },
     "metadata": {
      "tags": []
     },
     "output_type": "display_data"
    }
   ],
   "source": [
    "history = model_2.fit(X_train,  y_train, \n",
    "                    batch_size=4096, epochs=200,\n",
    "                    callbacks=callbacks,\n",
    "                    validation_data=(X_valid, y_valid))"
   ]
  },
  {
   "cell_type": "code",
   "execution_count": 0,
   "metadata": {
    "colab": {
     "base_uri": "https://localhost:8080/",
     "height": 274
    },
    "colab_type": "code",
    "id": "64zpPLJaGWKi",
    "outputId": "f3d9c4c5-7276-402b-9ebd-7984f15224d2"
   },
   "outputs": [
    {
     "name": "stdout",
     "output_type": "stream",
     "text": [
      "len 5: giolls gospee gaereo goelry garoes\n",
      "len 6: groyatn gieronb geroaln gutrian guiolos\n",
      "len 7: goelelll gioroupd geaulraa groeurms gotolroe\n",
      "len 8: groorwiau grroeicea gyrovoean geartiauu goeflriia\n",
      "len 9: gearreuuuu gyrollaesd ghorroooya golleigtac goepttirus\n",
      "len 10: gloouinasps geysra\n",
      "quuu gaaeeratuuu govleillade gionloolsia\n",
      "len 11: groooeeeetua groyrrstiupa gorboeyronee gloayrocersu gorrsutioeru\n",
      "len 12: goteopranneot gerormoausmly gaelondulus\n",
      "r golerayoaptay giantoansn\n",
      "nn\n",
      "len 13: geruortetcstoe giospmeranaaun geonleeanoeuci gyavetleeaeeee griiooseumsdab\n",
      "len 14: gatelluosrriauu garorpyecmrraal goosapei\n",
      "spntul gospteeoeelehoo gilkeeaoalullla\n"
     ]
    }
   ],
   "source": [
    "for target_len in range(5, 15):\n",
    "    temp = []\n",
    "    for i in range(5):\n",
    "        res = generate_with_length(model_2, training_length, target_len, chunks, 'no_pre', initt=9)\n",
    "        temp.append(res)\n",
    "    print('len ' + str(target_len) + ': ' + ' '.join(temp))"
   ]
  },
  {
   "cell_type": "code",
   "execution_count": 0,
   "metadata": {
    "colab": {
     "base_uri": "https://localhost:8080/",
     "height": 421
    },
    "colab_type": "code",
    "id": "YWSb6dDhSqKt",
    "outputId": "a9dc5d15-f6e5-44c2-db01-3ee26f63942b"
   },
   "outputs": [
    {
     "name": "stdout",
     "output_type": "stream",
     "text": [
      "len 5: t\n",
      "ooi tmoag tblat tooga teoea\n",
      "len 6: tevoge teiirz t\n",
      "xtoi todeei tsreau\n",
      "len 7: taoanba teibnbe tsgoeti tonoryu tmeeiae\n",
      "len 8: ioeoeron tlazrbuu te\n",
      "rvonu tooaaini tomoo\n",
      "ge\n",
      "len 9: tgveoltao teabggsso toombioob tvcsnauoi tsotdosy\n",
      "\n",
      "len 10: agiiondoor tapa\n",
      "meinm toandiaoem ttieaaenei tyiabewcsm\n",
      "len 11: cieobiubiod ttaveagoaeo tfmimlouryb gufaaebdnee tbnarod\n",
      "izn\n",
      "len 12: tiotgrinsobs toe\n",
      "ldanmaoe tiaozeeaoeek tatgqfdaaesa tmicsigoefop\n",
      "len 13: tnucuowyoieex deebeebaoioie trbuioewoioob dabtooy\n",
      "otaoi troo\n",
      "reaocoan\n",
      "len 14: trmpiqaaibntpb icayuleucleirk tatoqaigeba\n",
      "oe tbiiehlufbaude t\n",
      "dorooneninis\n"
     ]
    }
   ],
   "source": [
    "for target_len in range(5, 15):\n",
    "    temp = []\n",
    "    for i in range(5):\n",
    "        res = generate_with_length(model_2, training_length, target_len, chunks, 'pre', initt=1656)\n",
    "        temp.append(res)\n",
    "    print('len ' + str(target_len) + ': ' + ' '.join(temp))"
   ]
  },
  {
   "cell_type": "code",
   "execution_count": 0,
   "metadata": {
    "colab": {},
    "colab_type": "code",
    "id": "GwkvkOWxihSc"
   },
   "outputs": [],
   "source": []
  }
 ],
 "metadata": {
  "accelerator": "GPU",
  "colab": {
   "collapsed_sections": [],
   "include_colab_link": true,
   "name": "Copy of Plant names generation.ipynb",
   "provenance": [],
   "version": "0.3.2"
  },
  "kernelspec": {
   "display_name": "Python 3",
   "language": "python",
   "name": "python3"
  },
  "language_info": {
   "codemirror_mode": {
    "name": "ipython",
    "version": 3
   },
   "file_extension": ".py",
   "mimetype": "text/x-python",
   "name": "python",
   "nbconvert_exporter": "python",
   "pygments_lexer": "ipython3",
   "version": "3.6.2rc1"
  }
 },
 "nbformat": 4,
 "nbformat_minor": 1
}
